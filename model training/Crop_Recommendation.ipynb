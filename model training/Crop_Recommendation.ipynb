{
  "cells": [
    {
      "cell_type": "code",
      "source": [
        "import warnings\n",
        "warnings.filterwarnings('ignore')"
      ],
      "metadata": {
        "id": "nUseMImAFNZB"
      },
      "execution_count": 1,
      "outputs": []
    },
    {
      "cell_type": "code",
      "execution_count": 2,
      "metadata": {
        "colab": {
          "base_uri": "https://localhost:8080/",
          "height": 204
        },
        "id": "6W9sklVzp07K",
        "outputId": "a5244342-3605-46a8-9a53-32c446500ab1"
      },
      "outputs": [
        {
          "output_type": "execute_result",
          "data": {
            "text/plain": [
              "        N   P   K  temperature   humidity        ph    rainfall   label\n",
              "2130   98  27  27    24.713841  51.291425  7.238110  197.643971  coffee\n",
              "211    43  66  79    19.462340  15.225390  7.976608   74.585651   wheat\n",
              "1424  102  25  50    28.204808  92.914404  6.099662   20.360011  potato\n",
              "1705   70  68  45    33.835086  92.854702  6.991626  203.404403  pawpaw\n",
              "1179    0  17  30    35.474783  47.972305  6.279134   97.790725   mango"
            ],
            "text/html": [
              "\n",
              "  <div id=\"df-fcae616c-35df-4d6f-bee9-86ebb78318c6\" class=\"colab-df-container\">\n",
              "    <div>\n",
              "<style scoped>\n",
              "    .dataframe tbody tr th:only-of-type {\n",
              "        vertical-align: middle;\n",
              "    }\n",
              "\n",
              "    .dataframe tbody tr th {\n",
              "        vertical-align: top;\n",
              "    }\n",
              "\n",
              "    .dataframe thead th {\n",
              "        text-align: right;\n",
              "    }\n",
              "</style>\n",
              "<table border=\"1\" class=\"dataframe\">\n",
              "  <thead>\n",
              "    <tr style=\"text-align: right;\">\n",
              "      <th></th>\n",
              "      <th>N</th>\n",
              "      <th>P</th>\n",
              "      <th>K</th>\n",
              "      <th>temperature</th>\n",
              "      <th>humidity</th>\n",
              "      <th>ph</th>\n",
              "      <th>rainfall</th>\n",
              "      <th>label</th>\n",
              "    </tr>\n",
              "  </thead>\n",
              "  <tbody>\n",
              "    <tr>\n",
              "      <th>2130</th>\n",
              "      <td>98</td>\n",
              "      <td>27</td>\n",
              "      <td>27</td>\n",
              "      <td>24.713841</td>\n",
              "      <td>51.291425</td>\n",
              "      <td>7.238110</td>\n",
              "      <td>197.643971</td>\n",
              "      <td>coffee</td>\n",
              "    </tr>\n",
              "    <tr>\n",
              "      <th>211</th>\n",
              "      <td>43</td>\n",
              "      <td>66</td>\n",
              "      <td>79</td>\n",
              "      <td>19.462340</td>\n",
              "      <td>15.225390</td>\n",
              "      <td>7.976608</td>\n",
              "      <td>74.585651</td>\n",
              "      <td>wheat</td>\n",
              "    </tr>\n",
              "    <tr>\n",
              "      <th>1424</th>\n",
              "      <td>102</td>\n",
              "      <td>25</td>\n",
              "      <td>50</td>\n",
              "      <td>28.204808</td>\n",
              "      <td>92.914404</td>\n",
              "      <td>6.099662</td>\n",
              "      <td>20.360011</td>\n",
              "      <td>potato</td>\n",
              "    </tr>\n",
              "    <tr>\n",
              "      <th>1705</th>\n",
              "      <td>70</td>\n",
              "      <td>68</td>\n",
              "      <td>45</td>\n",
              "      <td>33.835086</td>\n",
              "      <td>92.854702</td>\n",
              "      <td>6.991626</td>\n",
              "      <td>203.404403</td>\n",
              "      <td>pawpaw</td>\n",
              "    </tr>\n",
              "    <tr>\n",
              "      <th>1179</th>\n",
              "      <td>0</td>\n",
              "      <td>17</td>\n",
              "      <td>30</td>\n",
              "      <td>35.474783</td>\n",
              "      <td>47.972305</td>\n",
              "      <td>6.279134</td>\n",
              "      <td>97.790725</td>\n",
              "      <td>mango</td>\n",
              "    </tr>\n",
              "  </tbody>\n",
              "</table>\n",
              "</div>\n",
              "    <div class=\"colab-df-buttons\">\n",
              "\n",
              "  <div class=\"colab-df-container\">\n",
              "    <button class=\"colab-df-convert\" onclick=\"convertToInteractive('df-fcae616c-35df-4d6f-bee9-86ebb78318c6')\"\n",
              "            title=\"Convert this dataframe to an interactive table.\"\n",
              "            style=\"display:none;\">\n",
              "\n",
              "  <svg xmlns=\"http://www.w3.org/2000/svg\" height=\"24px\" viewBox=\"0 -960 960 960\">\n",
              "    <path d=\"M120-120v-720h720v720H120Zm60-500h600v-160H180v160Zm220 220h160v-160H400v160Zm0 220h160v-160H400v160ZM180-400h160v-160H180v160Zm440 0h160v-160H620v160ZM180-180h160v-160H180v160Zm440 0h160v-160H620v160Z\"/>\n",
              "  </svg>\n",
              "    </button>\n",
              "\n",
              "  <style>\n",
              "    .colab-df-container {\n",
              "      display:flex;\n",
              "      gap: 12px;\n",
              "    }\n",
              "\n",
              "    .colab-df-convert {\n",
              "      background-color: #E8F0FE;\n",
              "      border: none;\n",
              "      border-radius: 50%;\n",
              "      cursor: pointer;\n",
              "      display: none;\n",
              "      fill: #1967D2;\n",
              "      height: 32px;\n",
              "      padding: 0 0 0 0;\n",
              "      width: 32px;\n",
              "    }\n",
              "\n",
              "    .colab-df-convert:hover {\n",
              "      background-color: #E2EBFA;\n",
              "      box-shadow: 0px 1px 2px rgba(60, 64, 67, 0.3), 0px 1px 3px 1px rgba(60, 64, 67, 0.15);\n",
              "      fill: #174EA6;\n",
              "    }\n",
              "\n",
              "    .colab-df-buttons div {\n",
              "      margin-bottom: 4px;\n",
              "    }\n",
              "\n",
              "    [theme=dark] .colab-df-convert {\n",
              "      background-color: #3B4455;\n",
              "      fill: #D2E3FC;\n",
              "    }\n",
              "\n",
              "    [theme=dark] .colab-df-convert:hover {\n",
              "      background-color: #434B5C;\n",
              "      box-shadow: 0px 1px 3px 1px rgba(0, 0, 0, 0.15);\n",
              "      filter: drop-shadow(0px 1px 2px rgba(0, 0, 0, 0.3));\n",
              "      fill: #FFFFFF;\n",
              "    }\n",
              "  </style>\n",
              "\n",
              "    <script>\n",
              "      const buttonEl =\n",
              "        document.querySelector('#df-fcae616c-35df-4d6f-bee9-86ebb78318c6 button.colab-df-convert');\n",
              "      buttonEl.style.display =\n",
              "        google.colab.kernel.accessAllowed ? 'block' : 'none';\n",
              "\n",
              "      async function convertToInteractive(key) {\n",
              "        const element = document.querySelector('#df-fcae616c-35df-4d6f-bee9-86ebb78318c6');\n",
              "        const dataTable =\n",
              "          await google.colab.kernel.invokeFunction('convertToInteractive',\n",
              "                                                    [key], {});\n",
              "        if (!dataTable) return;\n",
              "\n",
              "        const docLinkHtml = 'Like what you see? Visit the ' +\n",
              "          '<a target=\"_blank\" href=https://colab.research.google.com/notebooks/data_table.ipynb>data table notebook</a>'\n",
              "          + ' to learn more about interactive tables.';\n",
              "        element.innerHTML = '';\n",
              "        dataTable['output_type'] = 'display_data';\n",
              "        await google.colab.output.renderOutput(dataTable, element);\n",
              "        const docLink = document.createElement('div');\n",
              "        docLink.innerHTML = docLinkHtml;\n",
              "        element.appendChild(docLink);\n",
              "      }\n",
              "    </script>\n",
              "  </div>\n",
              "\n",
              "\n",
              "<div id=\"df-f712cdee-ecb0-4b7d-84e8-2d6867b71cd9\">\n",
              "  <button class=\"colab-df-quickchart\" onclick=\"quickchart('df-f712cdee-ecb0-4b7d-84e8-2d6867b71cd9')\"\n",
              "            title=\"Suggest charts.\"\n",
              "            style=\"display:none;\">\n",
              "\n",
              "<svg xmlns=\"http://www.w3.org/2000/svg\" height=\"24px\"viewBox=\"0 0 24 24\"\n",
              "     width=\"24px\">\n",
              "    <g>\n",
              "        <path d=\"M19 3H5c-1.1 0-2 .9-2 2v14c0 1.1.9 2 2 2h14c1.1 0 2-.9 2-2V5c0-1.1-.9-2-2-2zM9 17H7v-7h2v7zm4 0h-2V7h2v10zm4 0h-2v-4h2v4z\"/>\n",
              "    </g>\n",
              "</svg>\n",
              "  </button>\n",
              "\n",
              "<style>\n",
              "  .colab-df-quickchart {\n",
              "      --bg-color: #E8F0FE;\n",
              "      --fill-color: #1967D2;\n",
              "      --hover-bg-color: #E2EBFA;\n",
              "      --hover-fill-color: #174EA6;\n",
              "      --disabled-fill-color: #AAA;\n",
              "      --disabled-bg-color: #DDD;\n",
              "  }\n",
              "\n",
              "  [theme=dark] .colab-df-quickchart {\n",
              "      --bg-color: #3B4455;\n",
              "      --fill-color: #D2E3FC;\n",
              "      --hover-bg-color: #434B5C;\n",
              "      --hover-fill-color: #FFFFFF;\n",
              "      --disabled-bg-color: #3B4455;\n",
              "      --disabled-fill-color: #666;\n",
              "  }\n",
              "\n",
              "  .colab-df-quickchart {\n",
              "    background-color: var(--bg-color);\n",
              "    border: none;\n",
              "    border-radius: 50%;\n",
              "    cursor: pointer;\n",
              "    display: none;\n",
              "    fill: var(--fill-color);\n",
              "    height: 32px;\n",
              "    padding: 0;\n",
              "    width: 32px;\n",
              "  }\n",
              "\n",
              "  .colab-df-quickchart:hover {\n",
              "    background-color: var(--hover-bg-color);\n",
              "    box-shadow: 0 1px 2px rgba(60, 64, 67, 0.3), 0 1px 3px 1px rgba(60, 64, 67, 0.15);\n",
              "    fill: var(--button-hover-fill-color);\n",
              "  }\n",
              "\n",
              "  .colab-df-quickchart-complete:disabled,\n",
              "  .colab-df-quickchart-complete:disabled:hover {\n",
              "    background-color: var(--disabled-bg-color);\n",
              "    fill: var(--disabled-fill-color);\n",
              "    box-shadow: none;\n",
              "  }\n",
              "\n",
              "  .colab-df-spinner {\n",
              "    border: 2px solid var(--fill-color);\n",
              "    border-color: transparent;\n",
              "    border-bottom-color: var(--fill-color);\n",
              "    animation:\n",
              "      spin 1s steps(1) infinite;\n",
              "  }\n",
              "\n",
              "  @keyframes spin {\n",
              "    0% {\n",
              "      border-color: transparent;\n",
              "      border-bottom-color: var(--fill-color);\n",
              "      border-left-color: var(--fill-color);\n",
              "    }\n",
              "    20% {\n",
              "      border-color: transparent;\n",
              "      border-left-color: var(--fill-color);\n",
              "      border-top-color: var(--fill-color);\n",
              "    }\n",
              "    30% {\n",
              "      border-color: transparent;\n",
              "      border-left-color: var(--fill-color);\n",
              "      border-top-color: var(--fill-color);\n",
              "      border-right-color: var(--fill-color);\n",
              "    }\n",
              "    40% {\n",
              "      border-color: transparent;\n",
              "      border-right-color: var(--fill-color);\n",
              "      border-top-color: var(--fill-color);\n",
              "    }\n",
              "    60% {\n",
              "      border-color: transparent;\n",
              "      border-right-color: var(--fill-color);\n",
              "    }\n",
              "    80% {\n",
              "      border-color: transparent;\n",
              "      border-right-color: var(--fill-color);\n",
              "      border-bottom-color: var(--fill-color);\n",
              "    }\n",
              "    90% {\n",
              "      border-color: transparent;\n",
              "      border-bottom-color: var(--fill-color);\n",
              "    }\n",
              "  }\n",
              "</style>\n",
              "\n",
              "  <script>\n",
              "    async function quickchart(key) {\n",
              "      const quickchartButtonEl =\n",
              "        document.querySelector('#' + key + ' button');\n",
              "      quickchartButtonEl.disabled = true;  // To prevent multiple clicks.\n",
              "      quickchartButtonEl.classList.add('colab-df-spinner');\n",
              "      try {\n",
              "        const charts = await google.colab.kernel.invokeFunction(\n",
              "            'suggestCharts', [key], {});\n",
              "      } catch (error) {\n",
              "        console.error('Error during call to suggestCharts:', error);\n",
              "      }\n",
              "      quickchartButtonEl.classList.remove('colab-df-spinner');\n",
              "      quickchartButtonEl.classList.add('colab-df-quickchart-complete');\n",
              "    }\n",
              "    (() => {\n",
              "      let quickchartButtonEl =\n",
              "        document.querySelector('#df-f712cdee-ecb0-4b7d-84e8-2d6867b71cd9 button');\n",
              "      quickchartButtonEl.style.display =\n",
              "        google.colab.kernel.accessAllowed ? 'block' : 'none';\n",
              "    })();\n",
              "  </script>\n",
              "</div>\n",
              "    </div>\n",
              "  </div>\n"
            ]
          },
          "metadata": {},
          "execution_count": 2
        }
      ],
      "source": [
        "import pandas as pd\n",
        "\n",
        "df = pd.read_csv('Crop_recommendation.csv')\n",
        "\n",
        "df.sample(5)"
      ]
    },
    {
      "cell_type": "markdown",
      "metadata": {
        "id": "UWLmLOAOkzfA"
      },
      "source": [
        "## Data Exploration and Pre-processing"
      ]
    },
    {
      "cell_type": "code",
      "execution_count": 3,
      "metadata": {
        "colab": {
          "base_uri": "https://localhost:8080/"
        },
        "id": "B7mEJEufqj-W",
        "outputId": "3961d173-eaa2-4b2b-b0fd-9834283cf26e"
      },
      "outputs": [
        {
          "output_type": "execute_result",
          "data": {
            "text/plain": [
              "17600"
            ]
          },
          "metadata": {},
          "execution_count": 3
        }
      ],
      "source": [
        "df.size"
      ]
    },
    {
      "cell_type": "code",
      "execution_count": 4,
      "metadata": {
        "colab": {
          "base_uri": "https://localhost:8080/"
        },
        "id": "wGpnsm6tqmzV",
        "outputId": "33af1093-f706-406d-96a3-c0ddfbd540d9"
      },
      "outputs": [
        {
          "output_type": "execute_result",
          "data": {
            "text/plain": [
              "(2200, 8)"
            ]
          },
          "metadata": {},
          "execution_count": 4
        }
      ],
      "source": [
        "df.shape"
      ]
    },
    {
      "cell_type": "code",
      "execution_count": 5,
      "metadata": {
        "colab": {
          "base_uri": "https://localhost:8080/"
        },
        "id": "IC1AtH8TqtYT",
        "outputId": "63274ff0-5a5e-44fa-f172-c7dff4a9e85c"
      },
      "outputs": [
        {
          "output_type": "execute_result",
          "data": {
            "text/plain": [
              "array(['rice', 'maize', 'wheat', 'beans', 'pigeonpeas(mbaazi)', 'sorghum',\n",
              "       'cassava', 'blackgram', 'lentil(kamande)', 'avocado', 'banana',\n",
              "       'mango', 'cabbage', 'watermelon', 'potato', 'tea', 'orange',\n",
              "       'pawpaw', 'tomato', 'millet', 'groundnut', 'coffee'], dtype=object)"
            ]
          },
          "metadata": {},
          "execution_count": 5
        }
      ],
      "source": [
        "df['label'].unique()"
      ]
    },
    {
      "cell_type": "code",
      "execution_count": 6,
      "metadata": {
        "colab": {
          "base_uri": "https://localhost:8080/"
        },
        "id": "oLSdATMJGFu1",
        "outputId": "b51b152c-bfea-4707-83d4-f26afe27518e"
      },
      "outputs": [
        {
          "output_type": "execute_result",
          "data": {
            "text/plain": [
              "0"
            ]
          },
          "metadata": {},
          "execution_count": 6
        }
      ],
      "source": [
        "df.duplicated().sum()"
      ]
    },
    {
      "cell_type": "code",
      "execution_count": 7,
      "metadata": {
        "colab": {
          "base_uri": "https://localhost:8080/"
        },
        "id": "kII-YrSZq0ar",
        "outputId": "24e34ab9-7aa5-4d45-cb09-f9bba6855f4a"
      },
      "outputs": [
        {
          "output_type": "execute_result",
          "data": {
            "text/plain": [
              "N              0\n",
              "P              0\n",
              "K              0\n",
              "temperature    0\n",
              "humidity       0\n",
              "ph             0\n",
              "rainfall       0\n",
              "label          0\n",
              "dtype: int64"
            ]
          },
          "metadata": {},
          "execution_count": 7
        }
      ],
      "source": [
        "df.isnull().sum()"
      ]
    },
    {
      "cell_type": "code",
      "execution_count": 8,
      "metadata": {
        "id": "sIdfzoxVgKup"
      },
      "outputs": [],
      "source": [
        "# Label encoding\n",
        "from sklearn.preprocessing import LabelEncoder\n",
        "\n",
        "encoder = LabelEncoder()\n",
        "\n",
        "label_fit = encoder.fit(df['label'])\n",
        "df['label'] = label_fit.transform(df['label'])\n",
        "\n",
        "# Key value pairs of the transformed/encoded labels\n",
        "labels = dict(zip(label_fit.classes_, label_fit.transform(label_fit.classes_)))"
      ]
    },
    {
      "cell_type": "code",
      "execution_count": 9,
      "metadata": {
        "id": "cKV4zv30moDg"
      },
      "outputs": [],
      "source": [
        "# labels\n",
        "# {'apple': 0, 'banana': 1, 'blackgram': 2, 'chickpea(mbaazi)': 3, 'coconut': 4, 'coffee': 5, 'cotton': 6, 'grapes': 7, 'jute(mrenda)': 8, 'kidneybeans': 9, 'lentil': 10, 'maize': 11, 'mango': 12, 'mothbeans': 13, 'mungbean': 14, 'muskmelon': 15, 'orange': 16, 'pawpaw': 17, 'pigeonpeas': 18, 'pomegranate': 19, 'rice': 20, 'watermelon': 21}"
      ]
    },
    {
      "cell_type": "code",
      "execution_count": 10,
      "metadata": {
        "id": "sxX0U1xmq5OX"
      },
      "outputs": [],
      "source": [
        "X = df.drop(['label'], axis = 1)\n",
        "y = df['label']"
      ]
    },
    {
      "cell_type": "markdown",
      "metadata": {
        "id": "FByqZjeRk9Uz"
      },
      "source": [
        "## Model Training"
      ]
    },
    {
      "cell_type": "code",
      "execution_count": 11,
      "metadata": {
        "id": "K1UbMYyfrRYf"
      },
      "outputs": [],
      "source": [
        "from sklearn.tree import DecisionTreeClassifier\n",
        "from sklearn.model_selection import train_test_split, GridSearchCV\n",
        "from sklearn.metrics import classification_report, mean_squared_error\n",
        "from sklearn.model_selection import cross_val_score\n",
        "from sklearn import metrics\n",
        "from sklearn.svm import SVC\n",
        "from sklearn.neighbors import KNeighborsClassifier\n",
        "\n",
        "X_train, X_test, y_train, y_test = train_test_split(X, y, test_size = 0.2, random_state=42)"
      ]
    },
    {
      "cell_type": "code",
      "execution_count": 12,
      "metadata": {
        "id": "qVhvMirqBzKN"
      },
      "outputs": [],
      "source": [
        "# Base models: Decision Tree, SVM , KNN\n",
        "\n",
        "svm = SVC()\n",
        "dt = DecisionTreeClassifier()\n",
        "knn = KNeighborsClassifier(n_neighbors=5, metric='euclidean')"
      ]
    },
    {
      "cell_type": "markdown",
      "metadata": {
        "id": "ryjUnK4jB5RS"
      },
      "source": [
        "### SVM"
      ]
    },
    {
      "cell_type": "code",
      "execution_count": 13,
      "metadata": {
        "id": "lprlKe_dBz5x"
      },
      "outputs": [],
      "source": [
        "# Define a parameter grid for hyperparameter tuning\n",
        "svm_param_grid = {\n",
        "    'C': [0.1, 1, 10],\n",
        "    'kernel': ['linear'],\n",
        "    'gamma': ['auto']\n",
        "}\n",
        "\n",
        "# Create a GridSearchCV object for hyperparameter tuning\n",
        "svm = GridSearchCV(svm, svm_param_grid, cv=5, scoring='accuracy', verbose=1)"
      ]
    },
    {
      "cell_type": "markdown",
      "source": [
        "### Decision Tree"
      ],
      "metadata": {
        "id": "30-ovEOZWlZP"
      }
    },
    {
      "cell_type": "code",
      "source": [
        "dt_param_grid = {\n",
        "    'max_depth': [None, 5, 10, 15, 20],\n",
        "    'criterion': ['gini', 'entropy'],\n",
        "    'min_samples_leaf': [1, 2, 5, 10, 20]\n",
        "}\n",
        "\n",
        "dt = GridSearchCV(dt, dt_param_grid, cv=5)"
      ],
      "metadata": {
        "id": "1uHiPdmWWlDC"
      },
      "execution_count": 14,
      "outputs": []
    },
    {
      "cell_type": "markdown",
      "source": [
        "### Training models and checking accuracy"
      ],
      "metadata": {
        "id": "4GgMlO7UV9gR"
      }
    },
    {
      "cell_type": "code",
      "execution_count": 15,
      "metadata": {
        "colab": {
          "base_uri": "https://localhost:8080/"
        },
        "id": "Ry48AO1sc5iW",
        "outputId": "680856d9-f026-45cf-962c-d353500d2468"
      },
      "outputs": [
        {
          "output_type": "stream",
          "name": "stdout",
          "text": [
            "Fitting 5 folds for each of 3 candidates, totalling 15 fits\n",
            "---------------------------- SVC ----------------------------\n",
            "Accuracy score:  0.9795454545454545\n",
            "              precision    recall  f1-score   support\n",
            "\n",
            "           0       1.00      1.00      1.00        23\n",
            "           1       1.00      1.00      1.00        21\n",
            "           2       1.00      1.00      1.00        20\n",
            "           3       0.95      1.00      0.98        20\n",
            "           4       1.00      1.00      1.00        14\n",
            "           5       1.00      1.00      1.00        19\n",
            "           6       0.94      1.00      0.97        17\n",
            "           7       0.87      0.87      0.87        23\n",
            "           8       1.00      1.00      1.00        11\n",
            "           9       1.00      0.95      0.98        21\n",
            "          10       0.95      1.00      0.97        19\n",
            "          11       0.94      1.00      0.97        17\n",
            "          12       1.00      1.00      1.00        14\n",
            "          13       0.96      1.00      0.98        23\n",
            "          14       1.00      0.91      0.95        23\n",
            "          15       1.00      1.00      1.00        17\n",
            "          16       0.94      0.84      0.89        19\n",
            "          17       1.00      1.00      1.00        24\n",
            "          18       1.00      1.00      1.00        23\n",
            "          19       1.00      1.00      1.00        27\n",
            "          20       1.00      1.00      1.00        19\n",
            "          21       1.00      1.00      1.00        26\n",
            "\n",
            "    accuracy                           0.98       440\n",
            "   macro avg       0.98      0.98      0.98       440\n",
            "weighted avg       0.98      0.98      0.98       440\n",
            "\n",
            "---------------------------- DecisionTreeClassifier ----------------------------\n",
            "Accuracy score:  0.9886363636363636\n",
            "              precision    recall  f1-score   support\n",
            "\n",
            "           0       1.00      1.00      1.00        23\n",
            "           1       1.00      1.00      1.00        21\n",
            "           2       1.00      1.00      1.00        20\n",
            "           3       0.95      1.00      0.98        20\n",
            "           4       1.00      1.00      1.00        14\n",
            "           5       1.00      1.00      1.00        19\n",
            "           6       1.00      1.00      1.00        17\n",
            "           7       0.92      0.96      0.94        23\n",
            "           8       0.92      1.00      0.96        11\n",
            "           9       1.00      1.00      1.00        21\n",
            "          10       1.00      1.00      1.00        19\n",
            "          11       1.00      1.00      1.00        17\n",
            "          12       1.00      1.00      1.00        14\n",
            "          13       1.00      1.00      1.00        23\n",
            "          14       1.00      1.00      1.00        23\n",
            "          15       1.00      1.00      1.00        17\n",
            "          16       0.94      0.89      0.92        19\n",
            "          17       1.00      0.92      0.96        24\n",
            "          18       1.00      1.00      1.00        23\n",
            "          19       1.00      1.00      1.00        27\n",
            "          20       1.00      1.00      1.00        19\n",
            "          21       1.00      1.00      1.00        26\n",
            "\n",
            "    accuracy                           0.99       440\n",
            "   macro avg       0.99      0.99      0.99       440\n",
            "weighted avg       0.99      0.99      0.99       440\n",
            "\n",
            "---------------------------- KNeighborsClassifier(metric='euclidean') ----------------------------\n",
            "Accuracy score:  0.9704545454545455\n",
            "              precision    recall  f1-score   support\n",
            "\n",
            "           0       1.00      1.00      1.00        23\n",
            "           1       1.00      1.00      1.00        21\n",
            "           2       0.95      1.00      0.98        20\n",
            "           3       0.95      1.00      0.98        20\n",
            "           4       1.00      1.00      1.00        14\n",
            "           5       1.00      1.00      1.00        19\n",
            "           6       1.00      0.94      0.97        17\n",
            "           7       0.76      0.96      0.85        23\n",
            "           8       0.85      1.00      0.92        11\n",
            "           9       1.00      0.95      0.98        21\n",
            "          10       1.00      1.00      1.00        19\n",
            "          11       0.94      1.00      0.97        17\n",
            "          12       1.00      1.00      1.00        14\n",
            "          13       1.00      1.00      1.00        23\n",
            "          14       1.00      0.91      0.95        23\n",
            "          15       1.00      1.00      1.00        17\n",
            "          16       0.93      0.68      0.79        19\n",
            "          17       1.00      0.92      0.96        24\n",
            "          18       1.00      1.00      1.00        23\n",
            "          19       1.00      1.00      1.00        27\n",
            "          20       1.00      1.00      1.00        19\n",
            "          21       1.00      1.00      1.00        26\n",
            "\n",
            "    accuracy                           0.97       440\n",
            "   macro avg       0.97      0.97      0.97       440\n",
            "weighted avg       0.97      0.97      0.97       440\n",
            "\n"
          ]
        }
      ],
      "source": [
        "models = [svm, dt, knn]\n",
        "\n",
        "for model in models:\n",
        "  model.fit(X_train, y_train)\n",
        "  model_predict = model.predict(X_test)\n",
        "  score = metrics.accuracy_score(y_test, model_predict)\n",
        "  print(\"-------\" * 4, model, \"-------\" * 4) if model == knn else print(\"-------\" * 4, model.best_estimator_.__class__.__name__ , \"-------\" * 4)\n",
        "  print(\"Accuracy score: \", score)\n",
        "  print(classification_report(y_test, model_predict))"
      ]
    },
    {
      "cell_type": "markdown",
      "metadata": {
        "id": "JmwjdvNSmXWq"
      },
      "source": [
        "## Ensemble Stacking"
      ]
    },
    {
      "cell_type": "code",
      "execution_count": 16,
      "metadata": {
        "id": "1pq8Et1arpo5"
      },
      "outputs": [],
      "source": [
        "from sklearn.linear_model import LogisticRegression\n",
        "from sklearn.ensemble import StackingClassifier"
      ]
    },
    {
      "cell_type": "code",
      "execution_count": 17,
      "metadata": {
        "colab": {
          "base_uri": "https://localhost:8080/"
        },
        "id": "N13rroDxmW0w",
        "outputId": "e1fb3fa8-3925-4cbd-d9ab-f804c121b8f0"
      },
      "outputs": [
        {
          "output_type": "stream",
          "name": "stdout",
          "text": [
            "Fitting 5 folds for each of 3 candidates, totalling 15 fits\n",
            "Fitting 5 folds for each of 3 candidates, totalling 15 fits\n",
            "Fitting 5 folds for each of 3 candidates, totalling 15 fits\n",
            "Fitting 5 folds for each of 3 candidates, totalling 15 fits\n",
            "Fitting 5 folds for each of 3 candidates, totalling 15 fits\n",
            "Fitting 5 folds for each of 3 candidates, totalling 15 fits\n"
          ]
        }
      ],
      "source": [
        "# Define the base models\n",
        "base_models = [\n",
        "    ('svm', svm),\n",
        "    ('dt', dt),\n",
        "    ('knn', knn)\n",
        "]\n",
        "\n",
        "# Define the meta-learner (classifier)\n",
        "lr = LogisticRegression(multi_class='multinomial', solver='lbfgs', max_iter=1900)\n",
        "\n",
        "# Create the stacking classifier\n",
        "stacking_classifier = StackingClassifier(estimators=base_models, final_estimator=lr)\n",
        "\n",
        "# Fit the stacking classifier on the training data\n",
        "stacking_classifier.fit(X_train, y_train)\n",
        "\n",
        "# Make predictions using the stacking classifier\n",
        "stack_predictions = stacking_classifier.predict(X_test)\n"
      ]
    },
    {
      "cell_type": "code",
      "source": [
        "# check if the stacking ensemble classifier is overfitting\n",
        "\n",
        "# Perform k-fold cross-validation with k=5 (5 folds)\n",
        "stacking_scores = cross_val_score(dt, X, y, cv=5)\n",
        "\n",
        "# Print the cross-validation scores\n",
        "print(\"Cross-validation scores:\", stacking_scores)\n",
        "\n",
        "# Calculate and print the mean and standard deviation of the scores\n",
        "print(\"Mean accuracy: {:.2f}\".format(stacking_scores.mean()))\n",
        "print(\"Standard deviation: {:.2f}\".format(stacking_scores.std()))\n"
      ],
      "metadata": {
        "colab": {
          "base_uri": "https://localhost:8080/"
        },
        "id": "yqRjLxUHVTra",
        "outputId": "66855b73-091f-4780-94ab-a04735a61d06"
      },
      "execution_count": 18,
      "outputs": [
        {
          "output_type": "stream",
          "name": "stdout",
          "text": [
            "Cross-validation scores: [0.98636364 0.98409091 0.98863636 0.98863636 0.98409091]\n",
            "Mean accuracy: 0.99\n",
            "Standard deviation: 0.00\n"
          ]
        }
      ]
    },
    {
      "cell_type": "code",
      "execution_count": 19,
      "metadata": {
        "colab": {
          "base_uri": "https://localhost:8080/"
        },
        "id": "Yhma7ZpPevrE",
        "outputId": "75d996ae-e40f-4e73-c234-a6acdda2895a"
      },
      "outputs": [
        {
          "output_type": "stream",
          "name": "stdout",
          "text": [
            "Accuracy score:  0.9818181818181818\n",
            "              precision    recall  f1-score   support\n",
            "\n",
            "           0       1.00      1.00      1.00        23\n",
            "           1       1.00      1.00      1.00        21\n",
            "           2       1.00      1.00      1.00        20\n",
            "           3       0.95      1.00      0.98        20\n",
            "           4       1.00      1.00      1.00        14\n",
            "           5       1.00      1.00      1.00        19\n",
            "           6       0.94      1.00      0.97        17\n",
            "           7       0.91      0.87      0.89        23\n",
            "           8       0.92      1.00      0.96        11\n",
            "           9       1.00      0.95      0.98        21\n",
            "          10       1.00      1.00      1.00        19\n",
            "          11       0.94      1.00      0.97        17\n",
            "          12       1.00      1.00      1.00        14\n",
            "          13       0.96      1.00      0.98        23\n",
            "          14       1.00      0.96      0.98        23\n",
            "          15       1.00      1.00      1.00        17\n",
            "          16       0.94      0.89      0.92        19\n",
            "          17       1.00      0.96      0.98        24\n",
            "          18       1.00      1.00      1.00        23\n",
            "          19       1.00      1.00      1.00        27\n",
            "          20       1.00      1.00      1.00        19\n",
            "          21       1.00      1.00      1.00        26\n",
            "\n",
            "    accuracy                           0.98       440\n",
            "   macro avg       0.98      0.98      0.98       440\n",
            "weighted avg       0.98      0.98      0.98       440\n",
            "\n"
          ]
        }
      ],
      "source": [
        "# Evaluate the stacking classifier's performance\n",
        "\n",
        "print(\"Accuracy score: \", metrics.accuracy_score(y_test, stack_predictions))\n",
        "print(classification_report(y_test, stack_predictions))"
      ]
    },
    {
      "cell_type": "markdown",
      "metadata": {
        "id": "8cQgNeDymOLF"
      },
      "source": [
        "## Export Model"
      ]
    },
    {
      "cell_type": "code",
      "execution_count": 20,
      "metadata": {
        "colab": {
          "base_uri": "https://localhost:8080/"
        },
        "id": "hfJySTF0KnpQ",
        "outputId": "83b67f93-d4ce-44de-c236-bdaaded91ef1"
      },
      "outputs": [
        {
          "output_type": "execute_result",
          "data": {
            "text/plain": [
              "['model.pkl']"
            ]
          },
          "metadata": {},
          "execution_count": 20
        }
      ],
      "source": [
        "import joblib\n",
        "\n",
        "joblib.dump(stacking_classifier, 'model.pkl')"
      ]
    }
  ],
  "metadata": {
    "colab": {
      "provenance": []
    },
    "kernelspec": {
      "display_name": "Python 3",
      "name": "python3"
    },
    "language_info": {
      "name": "python"
    }
  },
  "nbformat": 4,
  "nbformat_minor": 0
}