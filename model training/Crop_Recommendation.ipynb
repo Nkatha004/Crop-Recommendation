{
  "cells": [
    {
      "cell_type": "code",
      "source": [
        "import warnings\n",
        "warnings.filterwarnings('ignore')"
      ],
      "metadata": {
        "id": "nUseMImAFNZB"
      },
      "execution_count": 1,
      "outputs": []
    },
    {
      "cell_type": "code",
      "execution_count": 2,
      "metadata": {
        "colab": {
          "base_uri": "https://localhost:8080/",
          "height": 204
        },
        "id": "6W9sklVzp07K",
        "outputId": "2be0f4b5-e4b7-452b-dbbd-b71ed369138b"
      },
      "outputs": [
        {
          "output_type": "execute_result",
          "data": {
            "text/plain": [
              "        N   P   K  temperature   humidity        ph    rainfall        label\n",
              "434    36  61  21    34.538239  39.044689  5.617008  168.594832   pigeonpeas\n",
              "985    39  25  36    18.902230  94.998975  5.567805  107.610321  pomegranate\n",
              "1478  113  28  48    28.877260  92.488397  6.170521   24.442676    muskmelon\n",
              "1919  117  56  15    25.992374  77.054355  7.368258   89.118821       cotton\n",
              "523    28  48  15    25.161254  55.254358  9.254089   40.897328    mothbeans"
            ],
            "text/html": [
              "\n",
              "  <div id=\"df-5b4fa8d8-4ceb-4d90-952f-00fae66a1f50\" class=\"colab-df-container\">\n",
              "    <div>\n",
              "<style scoped>\n",
              "    .dataframe tbody tr th:only-of-type {\n",
              "        vertical-align: middle;\n",
              "    }\n",
              "\n",
              "    .dataframe tbody tr th {\n",
              "        vertical-align: top;\n",
              "    }\n",
              "\n",
              "    .dataframe thead th {\n",
              "        text-align: right;\n",
              "    }\n",
              "</style>\n",
              "<table border=\"1\" class=\"dataframe\">\n",
              "  <thead>\n",
              "    <tr style=\"text-align: right;\">\n",
              "      <th></th>\n",
              "      <th>N</th>\n",
              "      <th>P</th>\n",
              "      <th>K</th>\n",
              "      <th>temperature</th>\n",
              "      <th>humidity</th>\n",
              "      <th>ph</th>\n",
              "      <th>rainfall</th>\n",
              "      <th>label</th>\n",
              "    </tr>\n",
              "  </thead>\n",
              "  <tbody>\n",
              "    <tr>\n",
              "      <th>434</th>\n",
              "      <td>36</td>\n",
              "      <td>61</td>\n",
              "      <td>21</td>\n",
              "      <td>34.538239</td>\n",
              "      <td>39.044689</td>\n",
              "      <td>5.617008</td>\n",
              "      <td>168.594832</td>\n",
              "      <td>pigeonpeas</td>\n",
              "    </tr>\n",
              "    <tr>\n",
              "      <th>985</th>\n",
              "      <td>39</td>\n",
              "      <td>25</td>\n",
              "      <td>36</td>\n",
              "      <td>18.902230</td>\n",
              "      <td>94.998975</td>\n",
              "      <td>5.567805</td>\n",
              "      <td>107.610321</td>\n",
              "      <td>pomegranate</td>\n",
              "    </tr>\n",
              "    <tr>\n",
              "      <th>1478</th>\n",
              "      <td>113</td>\n",
              "      <td>28</td>\n",
              "      <td>48</td>\n",
              "      <td>28.877260</td>\n",
              "      <td>92.488397</td>\n",
              "      <td>6.170521</td>\n",
              "      <td>24.442676</td>\n",
              "      <td>muskmelon</td>\n",
              "    </tr>\n",
              "    <tr>\n",
              "      <th>1919</th>\n",
              "      <td>117</td>\n",
              "      <td>56</td>\n",
              "      <td>15</td>\n",
              "      <td>25.992374</td>\n",
              "      <td>77.054355</td>\n",
              "      <td>7.368258</td>\n",
              "      <td>89.118821</td>\n",
              "      <td>cotton</td>\n",
              "    </tr>\n",
              "    <tr>\n",
              "      <th>523</th>\n",
              "      <td>28</td>\n",
              "      <td>48</td>\n",
              "      <td>15</td>\n",
              "      <td>25.161254</td>\n",
              "      <td>55.254358</td>\n",
              "      <td>9.254089</td>\n",
              "      <td>40.897328</td>\n",
              "      <td>mothbeans</td>\n",
              "    </tr>\n",
              "  </tbody>\n",
              "</table>\n",
              "</div>\n",
              "    <div class=\"colab-df-buttons\">\n",
              "\n",
              "  <div class=\"colab-df-container\">\n",
              "    <button class=\"colab-df-convert\" onclick=\"convertToInteractive('df-5b4fa8d8-4ceb-4d90-952f-00fae66a1f50')\"\n",
              "            title=\"Convert this dataframe to an interactive table.\"\n",
              "            style=\"display:none;\">\n",
              "\n",
              "  <svg xmlns=\"http://www.w3.org/2000/svg\" height=\"24px\" viewBox=\"0 -960 960 960\">\n",
              "    <path d=\"M120-120v-720h720v720H120Zm60-500h600v-160H180v160Zm220 220h160v-160H400v160Zm0 220h160v-160H400v160ZM180-400h160v-160H180v160Zm440 0h160v-160H620v160ZM180-180h160v-160H180v160Zm440 0h160v-160H620v160Z\"/>\n",
              "  </svg>\n",
              "    </button>\n",
              "\n",
              "  <style>\n",
              "    .colab-df-container {\n",
              "      display:flex;\n",
              "      gap: 12px;\n",
              "    }\n",
              "\n",
              "    .colab-df-convert {\n",
              "      background-color: #E8F0FE;\n",
              "      border: none;\n",
              "      border-radius: 50%;\n",
              "      cursor: pointer;\n",
              "      display: none;\n",
              "      fill: #1967D2;\n",
              "      height: 32px;\n",
              "      padding: 0 0 0 0;\n",
              "      width: 32px;\n",
              "    }\n",
              "\n",
              "    .colab-df-convert:hover {\n",
              "      background-color: #E2EBFA;\n",
              "      box-shadow: 0px 1px 2px rgba(60, 64, 67, 0.3), 0px 1px 3px 1px rgba(60, 64, 67, 0.15);\n",
              "      fill: #174EA6;\n",
              "    }\n",
              "\n",
              "    .colab-df-buttons div {\n",
              "      margin-bottom: 4px;\n",
              "    }\n",
              "\n",
              "    [theme=dark] .colab-df-convert {\n",
              "      background-color: #3B4455;\n",
              "      fill: #D2E3FC;\n",
              "    }\n",
              "\n",
              "    [theme=dark] .colab-df-convert:hover {\n",
              "      background-color: #434B5C;\n",
              "      box-shadow: 0px 1px 3px 1px rgba(0, 0, 0, 0.15);\n",
              "      filter: drop-shadow(0px 1px 2px rgba(0, 0, 0, 0.3));\n",
              "      fill: #FFFFFF;\n",
              "    }\n",
              "  </style>\n",
              "\n",
              "    <script>\n",
              "      const buttonEl =\n",
              "        document.querySelector('#df-5b4fa8d8-4ceb-4d90-952f-00fae66a1f50 button.colab-df-convert');\n",
              "      buttonEl.style.display =\n",
              "        google.colab.kernel.accessAllowed ? 'block' : 'none';\n",
              "\n",
              "      async function convertToInteractive(key) {\n",
              "        const element = document.querySelector('#df-5b4fa8d8-4ceb-4d90-952f-00fae66a1f50');\n",
              "        const dataTable =\n",
              "          await google.colab.kernel.invokeFunction('convertToInteractive',\n",
              "                                                    [key], {});\n",
              "        if (!dataTable) return;\n",
              "\n",
              "        const docLinkHtml = 'Like what you see? Visit the ' +\n",
              "          '<a target=\"_blank\" href=https://colab.research.google.com/notebooks/data_table.ipynb>data table notebook</a>'\n",
              "          + ' to learn more about interactive tables.';\n",
              "        element.innerHTML = '';\n",
              "        dataTable['output_type'] = 'display_data';\n",
              "        await google.colab.output.renderOutput(dataTable, element);\n",
              "        const docLink = document.createElement('div');\n",
              "        docLink.innerHTML = docLinkHtml;\n",
              "        element.appendChild(docLink);\n",
              "      }\n",
              "    </script>\n",
              "  </div>\n",
              "\n",
              "\n",
              "<div id=\"df-100896cf-54d5-4d24-91f7-2cdb155310a9\">\n",
              "  <button class=\"colab-df-quickchart\" onclick=\"quickchart('df-100896cf-54d5-4d24-91f7-2cdb155310a9')\"\n",
              "            title=\"Suggest charts.\"\n",
              "            style=\"display:none;\">\n",
              "\n",
              "<svg xmlns=\"http://www.w3.org/2000/svg\" height=\"24px\"viewBox=\"0 0 24 24\"\n",
              "     width=\"24px\">\n",
              "    <g>\n",
              "        <path d=\"M19 3H5c-1.1 0-2 .9-2 2v14c0 1.1.9 2 2 2h14c1.1 0 2-.9 2-2V5c0-1.1-.9-2-2-2zM9 17H7v-7h2v7zm4 0h-2V7h2v10zm4 0h-2v-4h2v4z\"/>\n",
              "    </g>\n",
              "</svg>\n",
              "  </button>\n",
              "\n",
              "<style>\n",
              "  .colab-df-quickchart {\n",
              "      --bg-color: #E8F0FE;\n",
              "      --fill-color: #1967D2;\n",
              "      --hover-bg-color: #E2EBFA;\n",
              "      --hover-fill-color: #174EA6;\n",
              "      --disabled-fill-color: #AAA;\n",
              "      --disabled-bg-color: #DDD;\n",
              "  }\n",
              "\n",
              "  [theme=dark] .colab-df-quickchart {\n",
              "      --bg-color: #3B4455;\n",
              "      --fill-color: #D2E3FC;\n",
              "      --hover-bg-color: #434B5C;\n",
              "      --hover-fill-color: #FFFFFF;\n",
              "      --disabled-bg-color: #3B4455;\n",
              "      --disabled-fill-color: #666;\n",
              "  }\n",
              "\n",
              "  .colab-df-quickchart {\n",
              "    background-color: var(--bg-color);\n",
              "    border: none;\n",
              "    border-radius: 50%;\n",
              "    cursor: pointer;\n",
              "    display: none;\n",
              "    fill: var(--fill-color);\n",
              "    height: 32px;\n",
              "    padding: 0;\n",
              "    width: 32px;\n",
              "  }\n",
              "\n",
              "  .colab-df-quickchart:hover {\n",
              "    background-color: var(--hover-bg-color);\n",
              "    box-shadow: 0 1px 2px rgba(60, 64, 67, 0.3), 0 1px 3px 1px rgba(60, 64, 67, 0.15);\n",
              "    fill: var(--button-hover-fill-color);\n",
              "  }\n",
              "\n",
              "  .colab-df-quickchart-complete:disabled,\n",
              "  .colab-df-quickchart-complete:disabled:hover {\n",
              "    background-color: var(--disabled-bg-color);\n",
              "    fill: var(--disabled-fill-color);\n",
              "    box-shadow: none;\n",
              "  }\n",
              "\n",
              "  .colab-df-spinner {\n",
              "    border: 2px solid var(--fill-color);\n",
              "    border-color: transparent;\n",
              "    border-bottom-color: var(--fill-color);\n",
              "    animation:\n",
              "      spin 1s steps(1) infinite;\n",
              "  }\n",
              "\n",
              "  @keyframes spin {\n",
              "    0% {\n",
              "      border-color: transparent;\n",
              "      border-bottom-color: var(--fill-color);\n",
              "      border-left-color: var(--fill-color);\n",
              "    }\n",
              "    20% {\n",
              "      border-color: transparent;\n",
              "      border-left-color: var(--fill-color);\n",
              "      border-top-color: var(--fill-color);\n",
              "    }\n",
              "    30% {\n",
              "      border-color: transparent;\n",
              "      border-left-color: var(--fill-color);\n",
              "      border-top-color: var(--fill-color);\n",
              "      border-right-color: var(--fill-color);\n",
              "    }\n",
              "    40% {\n",
              "      border-color: transparent;\n",
              "      border-right-color: var(--fill-color);\n",
              "      border-top-color: var(--fill-color);\n",
              "    }\n",
              "    60% {\n",
              "      border-color: transparent;\n",
              "      border-right-color: var(--fill-color);\n",
              "    }\n",
              "    80% {\n",
              "      border-color: transparent;\n",
              "      border-right-color: var(--fill-color);\n",
              "      border-bottom-color: var(--fill-color);\n",
              "    }\n",
              "    90% {\n",
              "      border-color: transparent;\n",
              "      border-bottom-color: var(--fill-color);\n",
              "    }\n",
              "  }\n",
              "</style>\n",
              "\n",
              "  <script>\n",
              "    async function quickchart(key) {\n",
              "      const quickchartButtonEl =\n",
              "        document.querySelector('#' + key + ' button');\n",
              "      quickchartButtonEl.disabled = true;  // To prevent multiple clicks.\n",
              "      quickchartButtonEl.classList.add('colab-df-spinner');\n",
              "      try {\n",
              "        const charts = await google.colab.kernel.invokeFunction(\n",
              "            'suggestCharts', [key], {});\n",
              "      } catch (error) {\n",
              "        console.error('Error during call to suggestCharts:', error);\n",
              "      }\n",
              "      quickchartButtonEl.classList.remove('colab-df-spinner');\n",
              "      quickchartButtonEl.classList.add('colab-df-quickchart-complete');\n",
              "    }\n",
              "    (() => {\n",
              "      let quickchartButtonEl =\n",
              "        document.querySelector('#df-100896cf-54d5-4d24-91f7-2cdb155310a9 button');\n",
              "      quickchartButtonEl.style.display =\n",
              "        google.colab.kernel.accessAllowed ? 'block' : 'none';\n",
              "    })();\n",
              "  </script>\n",
              "</div>\n",
              "    </div>\n",
              "  </div>\n"
            ]
          },
          "metadata": {},
          "execution_count": 2
        }
      ],
      "source": [
        "import pandas as pd\n",
        "\n",
        "df = pd.read_csv('Crop_recommendation.csv')\n",
        "\n",
        "df.sample(5)"
      ]
    },
    {
      "cell_type": "markdown",
      "metadata": {
        "id": "UWLmLOAOkzfA"
      },
      "source": [
        "## Data Exploration and Pre-processing"
      ]
    },
    {
      "cell_type": "code",
      "execution_count": 3,
      "metadata": {
        "colab": {
          "base_uri": "https://localhost:8080/"
        },
        "id": "B7mEJEufqj-W",
        "outputId": "89c6c0ed-cec1-4600-b978-d9ac01fddd69"
      },
      "outputs": [
        {
          "output_type": "execute_result",
          "data": {
            "text/plain": [
              "17600"
            ]
          },
          "metadata": {},
          "execution_count": 3
        }
      ],
      "source": [
        "df.size"
      ]
    },
    {
      "cell_type": "code",
      "execution_count": 4,
      "metadata": {
        "colab": {
          "base_uri": "https://localhost:8080/"
        },
        "id": "wGpnsm6tqmzV",
        "outputId": "023c4451-9335-4a98-c361-a3b410b447d0"
      },
      "outputs": [
        {
          "output_type": "execute_result",
          "data": {
            "text/plain": [
              "(2200, 8)"
            ]
          },
          "metadata": {},
          "execution_count": 4
        }
      ],
      "source": [
        "df.shape"
      ]
    },
    {
      "cell_type": "code",
      "execution_count": 5,
      "metadata": {
        "colab": {
          "base_uri": "https://localhost:8080/"
        },
        "id": "IC1AtH8TqtYT",
        "outputId": "b27e38d1-a4b4-480a-935c-c48774de1bed"
      },
      "outputs": [
        {
          "output_type": "execute_result",
          "data": {
            "text/plain": [
              "array(['rice', 'maize', 'chickpea(mbaazi)', 'kidneybeans', 'pigeonpeas',\n",
              "       'mothbeans', 'mungbean', 'blackgram', 'lentil', 'pomegranate',\n",
              "       'banana', 'mango', 'grapes', 'watermelon', 'muskmelon', 'apple',\n",
              "       'orange', 'pawpaw', 'coconut', 'cotton', 'jute(mrenda)', 'coffee'],\n",
              "      dtype=object)"
            ]
          },
          "metadata": {},
          "execution_count": 5
        }
      ],
      "source": [
        "df['label'].unique()"
      ]
    },
    {
      "cell_type": "code",
      "execution_count": 6,
      "metadata": {
        "colab": {
          "base_uri": "https://localhost:8080/"
        },
        "id": "oLSdATMJGFu1",
        "outputId": "63efd6f1-25f4-4e85-b795-9adcc3212a4e"
      },
      "outputs": [
        {
          "output_type": "execute_result",
          "data": {
            "text/plain": [
              "0"
            ]
          },
          "metadata": {},
          "execution_count": 6
        }
      ],
      "source": [
        "df.duplicated().sum()"
      ]
    },
    {
      "cell_type": "code",
      "execution_count": 7,
      "metadata": {
        "colab": {
          "base_uri": "https://localhost:8080/"
        },
        "id": "kII-YrSZq0ar",
        "outputId": "225385e7-14f7-41ad-e4fe-38bd4c6ef7b2"
      },
      "outputs": [
        {
          "output_type": "execute_result",
          "data": {
            "text/plain": [
              "N              0\n",
              "P              0\n",
              "K              0\n",
              "temperature    0\n",
              "humidity       0\n",
              "ph             0\n",
              "rainfall       0\n",
              "label          0\n",
              "dtype: int64"
            ]
          },
          "metadata": {},
          "execution_count": 7
        }
      ],
      "source": [
        "df.isnull().sum()"
      ]
    },
    {
      "cell_type": "code",
      "execution_count": 8,
      "metadata": {
        "id": "sIdfzoxVgKup"
      },
      "outputs": [],
      "source": [
        "# Label encoding\n",
        "from sklearn.preprocessing import LabelEncoder\n",
        "\n",
        "encoder = LabelEncoder()\n",
        "\n",
        "# df['label'] = encoder.fit_transform(df['label'])\n",
        "\n",
        "label_fit = encoder.fit(df['label'])\n",
        "df['label'] = label_fit.transform(df['label'])\n",
        "\n",
        "# Key value pairs of the transformed/encoded labels\n",
        "labels = dict(zip(label_fit.classes_, label_fit.transform(label_fit.classes_)))"
      ]
    },
    {
      "cell_type": "code",
      "execution_count": 9,
      "metadata": {
        "id": "cKV4zv30moDg"
      },
      "outputs": [],
      "source": [
        "# labels\n",
        "# {'apple': 0, 'banana': 1, 'blackgram': 2, 'chickpea(mbaazi)': 3, 'coconut': 4, 'coffee': 5, 'cotton': 6, 'grapes': 7, 'jute(mrenda)': 8, 'kidneybeans': 9, 'lentil': 10, 'maize': 11, 'mango': 12, 'mothbeans': 13, 'mungbean': 14, 'muskmelon': 15, 'orange': 16, 'pawpaw': 17, 'pigeonpeas': 18, 'pomegranate': 19, 'rice': 20, 'watermelon': 21}"
      ]
    },
    {
      "cell_type": "code",
      "execution_count": 10,
      "metadata": {
        "id": "sxX0U1xmq5OX"
      },
      "outputs": [],
      "source": [
        "X = df.drop(['label'], axis = 1)\n",
        "y = df['label']"
      ]
    },
    {
      "cell_type": "markdown",
      "metadata": {
        "id": "FByqZjeRk9Uz"
      },
      "source": [
        "## Model Training"
      ]
    },
    {
      "cell_type": "code",
      "execution_count": 11,
      "metadata": {
        "id": "K1UbMYyfrRYf"
      },
      "outputs": [],
      "source": [
        "from sklearn.tree import DecisionTreeClassifier\n",
        "from sklearn.model_selection import train_test_split, GridSearchCV\n",
        "from sklearn.metrics import classification_report, mean_squared_error\n",
        "from sklearn.model_selection import cross_val_score\n",
        "from sklearn import metrics\n",
        "from sklearn.svm import SVC\n",
        "from sklearn.neighbors import KNeighborsClassifier\n",
        "\n",
        "X_train, X_test, y_train, y_test = train_test_split(X, y, test_size = 0.2, random_state=42)"
      ]
    },
    {
      "cell_type": "code",
      "execution_count": 12,
      "metadata": {
        "id": "qVhvMirqBzKN"
      },
      "outputs": [],
      "source": [
        "# Base models: Decision Tree, SVM , KNN\n",
        "\n",
        "svm = SVC()\n",
        "dt = DecisionTreeClassifier()\n",
        "knn = KNeighborsClassifier(n_neighbors=3)"
      ]
    },
    {
      "cell_type": "markdown",
      "metadata": {
        "id": "ryjUnK4jB5RS"
      },
      "source": [
        "### SVM"
      ]
    },
    {
      "cell_type": "code",
      "execution_count": 13,
      "metadata": {
        "id": "lprlKe_dBz5x"
      },
      "outputs": [],
      "source": [
        "# Define a parameter grid for hyperparameter tuning\n",
        "param_grid = {\n",
        "    'C': [0.1, 1, 10],\n",
        "    'kernel': ['linear'],\n",
        "    'gamma': ['auto']\n",
        "}\n",
        "\n",
        "# Create a GridSearchCV object for hyperparameter tuning\n",
        "svm = GridSearchCV(svm, param_grid, cv=5, scoring='accuracy', verbose=1)"
      ]
    },
    {
      "cell_type": "code",
      "execution_count": 14,
      "metadata": {
        "colab": {
          "base_uri": "https://localhost:8080/"
        },
        "id": "Ry48AO1sc5iW",
        "outputId": "7048a97b-0615-4fcd-f64a-3499311c85de"
      },
      "outputs": [
        {
          "output_type": "stream",
          "name": "stdout",
          "text": [
            "Fitting 5 folds for each of 3 candidates, totalling 15 fits\n",
            "---------------------------- GridSearchCV(cv=5, estimator=SVC(),\n",
            "             param_grid={'C': [0.1, 1, 10], 'gamma': ['auto'],\n",
            "                         'kernel': ['linear']},\n",
            "             scoring='accuracy', verbose=1) ----------------------------\n",
            "Accuracy score:  0.9795454545454545\n",
            "              precision    recall  f1-score   support\n",
            "\n",
            "           0       1.00      1.00      1.00        23\n",
            "           1       1.00      1.00      1.00        21\n",
            "           2       0.95      1.00      0.98        20\n",
            "           3       1.00      1.00      1.00        26\n",
            "           4       1.00      1.00      1.00        27\n",
            "           5       0.94      1.00      0.97        17\n",
            "           6       0.94      1.00      0.97        17\n",
            "           7       1.00      1.00      1.00        14\n",
            "           8       0.87      0.87      0.87        23\n",
            "           9       1.00      1.00      1.00        20\n",
            "          10       1.00      1.00      1.00        11\n",
            "          11       1.00      0.95      0.98        21\n",
            "          12       0.95      1.00      0.97        19\n",
            "          13       1.00      1.00      1.00        24\n",
            "          14       1.00      1.00      1.00        19\n",
            "          15       1.00      1.00      1.00        17\n",
            "          16       1.00      1.00      1.00        14\n",
            "          17       0.96      1.00      0.98        23\n",
            "          18       1.00      0.91      0.95        23\n",
            "          19       1.00      1.00      1.00        23\n",
            "          20       0.94      0.84      0.89        19\n",
            "          21       1.00      1.00      1.00        19\n",
            "\n",
            "    accuracy                           0.98       440\n",
            "   macro avg       0.98      0.98      0.98       440\n",
            "weighted avg       0.98      0.98      0.98       440\n",
            "\n",
            "---------------------------- DecisionTreeClassifier() ----------------------------\n",
            "Accuracy score:  0.9886363636363636\n",
            "              precision    recall  f1-score   support\n",
            "\n",
            "           0       1.00      1.00      1.00        23\n",
            "           1       1.00      1.00      1.00        21\n",
            "           2       0.95      1.00      0.98        20\n",
            "           3       1.00      1.00      1.00        26\n",
            "           4       1.00      1.00      1.00        27\n",
            "           5       1.00      1.00      1.00        17\n",
            "           6       1.00      1.00      1.00        17\n",
            "           7       1.00      1.00      1.00        14\n",
            "           8       0.92      0.96      0.94        23\n",
            "           9       1.00      1.00      1.00        20\n",
            "          10       0.92      1.00      0.96        11\n",
            "          11       1.00      1.00      1.00        21\n",
            "          12       1.00      1.00      1.00        19\n",
            "          13       1.00      0.92      0.96        24\n",
            "          14       1.00      1.00      1.00        19\n",
            "          15       1.00      1.00      1.00        17\n",
            "          16       1.00      1.00      1.00        14\n",
            "          17       1.00      1.00      1.00        23\n",
            "          18       1.00      1.00      1.00        23\n",
            "          19       1.00      1.00      1.00        23\n",
            "          20       0.94      0.89      0.92        19\n",
            "          21       1.00      1.00      1.00        19\n",
            "\n",
            "    accuracy                           0.99       440\n",
            "   macro avg       0.99      0.99      0.99       440\n",
            "weighted avg       0.99      0.99      0.99       440\n",
            "\n",
            "---------------------------- KNeighborsClassifier(n_neighbors=3) ----------------------------\n",
            "Accuracy score:  0.9704545454545455\n",
            "              precision    recall  f1-score   support\n",
            "\n",
            "           0       1.00      1.00      1.00        23\n",
            "           1       1.00      1.00      1.00        21\n",
            "           2       0.95      1.00      0.98        20\n",
            "           3       1.00      1.00      1.00        26\n",
            "           4       1.00      1.00      1.00        27\n",
            "           5       1.00      0.94      0.97        17\n",
            "           6       0.89      0.94      0.91        17\n",
            "           7       1.00      1.00      1.00        14\n",
            "           8       0.81      0.91      0.86        23\n",
            "           9       1.00      1.00      1.00        20\n",
            "          10       0.85      1.00      0.92        11\n",
            "          11       0.95      0.90      0.93        21\n",
            "          12       1.00      1.00      1.00        19\n",
            "          13       1.00      0.92      0.96        24\n",
            "          14       1.00      1.00      1.00        19\n",
            "          15       1.00      1.00      1.00        17\n",
            "          16       1.00      1.00      1.00        14\n",
            "          17       1.00      1.00      1.00        23\n",
            "          18       1.00      0.96      0.98        23\n",
            "          19       1.00      1.00      1.00        23\n",
            "          20       0.88      0.79      0.83        19\n",
            "          21       1.00      1.00      1.00        19\n",
            "\n",
            "    accuracy                           0.97       440\n",
            "   macro avg       0.97      0.97      0.97       440\n",
            "weighted avg       0.97      0.97      0.97       440\n",
            "\n"
          ]
        }
      ],
      "source": [
        "models = [svm, dt, knn]\n",
        "\n",
        "for model in models:\n",
        "  model.fit(X_train, y_train)\n",
        "  model_predict = model.predict(X_test)\n",
        "  score = metrics.accuracy_score(y_test, model_predict)\n",
        "  print(\"-------\" * 4, model, \"-------\" * 4)\n",
        "  print(\"Accuracy score: \", score)\n",
        "  print(classification_report(y_test, model_predict))"
      ]
    },
    {
      "cell_type": "markdown",
      "metadata": {
        "id": "JmwjdvNSmXWq"
      },
      "source": [
        "## Ensemble Stacking"
      ]
    },
    {
      "cell_type": "code",
      "execution_count": 15,
      "metadata": {
        "id": "1pq8Et1arpo5"
      },
      "outputs": [],
      "source": [
        "from sklearn.linear_model import LogisticRegression\n",
        "from sklearn.ensemble import StackingClassifier"
      ]
    },
    {
      "cell_type": "code",
      "execution_count": 16,
      "metadata": {
        "colab": {
          "base_uri": "https://localhost:8080/"
        },
        "id": "N13rroDxmW0w",
        "outputId": "b11c4842-439a-400a-a95f-94a0a080625a"
      },
      "outputs": [
        {
          "output_type": "stream",
          "name": "stdout",
          "text": [
            "Fitting 5 folds for each of 3 candidates, totalling 15 fits\n",
            "Fitting 5 folds for each of 3 candidates, totalling 15 fits\n",
            "Fitting 5 folds for each of 3 candidates, totalling 15 fits\n",
            "Fitting 5 folds for each of 3 candidates, totalling 15 fits\n",
            "Fitting 5 folds for each of 3 candidates, totalling 15 fits\n",
            "Fitting 5 folds for each of 3 candidates, totalling 15 fits\n"
          ]
        }
      ],
      "source": [
        "# Define the base models\n",
        "base_models = [\n",
        "    ('svm', svm),\n",
        "    ('dt', dt),\n",
        "    ('knn', knn)\n",
        "]\n",
        "\n",
        "# Define the meta-learner (classifier)\n",
        "lr = LogisticRegression(multi_class='multinomial', solver='lbfgs', max_iter=1900)\n",
        "\n",
        "# Create the stacking classifier\n",
        "stacking_classifier = StackingClassifier(estimators=base_models, final_estimator=lr)\n",
        "\n",
        "# Fit the stacking classifier on the training data\n",
        "stacking_classifier.fit(X_train, y_train)\n",
        "\n",
        "# Make predictions using the stacking classifier\n",
        "stack_predictions = stacking_classifier.predict(X_test)\n"
      ]
    },
    {
      "cell_type": "code",
      "execution_count": 17,
      "metadata": {
        "colab": {
          "base_uri": "https://localhost:8080/"
        },
        "id": "Yhma7ZpPevrE",
        "outputId": "b1817307-ed72-4629-e43e-f77a38156892"
      },
      "outputs": [
        {
          "output_type": "stream",
          "name": "stdout",
          "text": [
            "Accuracy score:  0.9818181818181818\n",
            "              precision    recall  f1-score   support\n",
            "\n",
            "           0       1.00      1.00      1.00        23\n",
            "           1       1.00      1.00      1.00        21\n",
            "           2       0.95      1.00      0.98        20\n",
            "           3       1.00      1.00      1.00        26\n",
            "           4       1.00      1.00      1.00        27\n",
            "           5       0.94      1.00      0.97        17\n",
            "           6       0.94      1.00      0.97        17\n",
            "           7       1.00      1.00      1.00        14\n",
            "           8       0.91      0.87      0.89        23\n",
            "           9       1.00      1.00      1.00        20\n",
            "          10       0.92      1.00      0.96        11\n",
            "          11       1.00      0.95      0.98        21\n",
            "          12       1.00      1.00      1.00        19\n",
            "          13       1.00      0.96      0.98        24\n",
            "          14       1.00      1.00      1.00        19\n",
            "          15       1.00      1.00      1.00        17\n",
            "          16       1.00      1.00      1.00        14\n",
            "          17       0.96      1.00      0.98        23\n",
            "          18       1.00      0.96      0.98        23\n",
            "          19       1.00      1.00      1.00        23\n",
            "          20       0.94      0.89      0.92        19\n",
            "          21       1.00      1.00      1.00        19\n",
            "\n",
            "    accuracy                           0.98       440\n",
            "   macro avg       0.98      0.98      0.98       440\n",
            "weighted avg       0.98      0.98      0.98       440\n",
            "\n"
          ]
        }
      ],
      "source": [
        "# Evaluate the stacking classifier's performance\n",
        "\n",
        "print(\"Accuracy score: \", metrics.accuracy_score(y_test, stack_predictions))\n",
        "print(classification_report(y_test, stack_predictions))"
      ]
    },
    {
      "cell_type": "markdown",
      "metadata": {
        "id": "8cQgNeDymOLF"
      },
      "source": [
        "## Export Model"
      ]
    },
    {
      "cell_type": "code",
      "execution_count": 18,
      "metadata": {
        "colab": {
          "base_uri": "https://localhost:8080/"
        },
        "id": "hfJySTF0KnpQ",
        "outputId": "98f3807e-09d1-41de-b77c-cd6c4079c954"
      },
      "outputs": [
        {
          "output_type": "execute_result",
          "data": {
            "text/plain": [
              "['model.pkl']"
            ]
          },
          "metadata": {},
          "execution_count": 18
        }
      ],
      "source": [
        "import joblib\n",
        "\n",
        "joblib.dump(stacking_classifier, 'model.pkl')"
      ]
    }
  ],
  "metadata": {
    "colab": {
      "provenance": []
    },
    "kernelspec": {
      "display_name": "Python 3",
      "name": "python3"
    },
    "language_info": {
      "name": "python"
    }
  },
  "nbformat": 4,
  "nbformat_minor": 0
}